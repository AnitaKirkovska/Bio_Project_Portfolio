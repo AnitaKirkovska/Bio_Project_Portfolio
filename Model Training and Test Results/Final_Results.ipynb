{
  "nbformat": 4,
  "nbformat_minor": 0,
  "metadata": {
    "colab": {
      "name": "model_filtered.ipynb",
      "provenance": [],
      "collapsed_sections": [],
      "include_colab_link": true
    },
    "kernelspec": {
      "name": "python3",
      "display_name": "Python 3"
    }
  },
  "cells": [
    {
      "cell_type": "markdown",
      "metadata": {
        "id": "view-in-github",
        "colab_type": "text"
      },
      "source": [
        "<a href=\"https://colab.research.google.com/github/AnitaKirkovska/Bio_Project_Results/blob/master/model_final.ipynb\" target=\"_parent\"><img src=\"https://colab.research.google.com/assets/colab-badge.svg\" alt=\"Open In Colab\"/></a>"
      ]
    },
    {
      "cell_type": "markdown",
      "metadata": {
        "id": "vQqzuIC9x7RF",
        "colab_type": "text"
      },
      "source": [
        "#Upload & Unzip the Data"
      ]
    },
    {
      "cell_type": "code",
      "metadata": {
        "id": "bR-VECbMx_qv",
        "colab_type": "code",
        "outputId": "7e4e50a9-631d-4a8f-9886-08c9beb1b40b",
        "colab": {
          "resources": {
            "http://localhost:8080/nbextensions/google.colab/files.js": {
              "data": "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",
              "ok": true,
              "headers": [
                [
                  "content-type",
                  "application/javascript"
                ]
              ],
              "status": 200,
              "status_text": ""
            }
          },
          "base_uri": "https://localhost:8080/",
          "height": 176
        }
      },
      "source": [
        "!rm -r Data\n",
        "!rm Data.zip\n",
        "!rm -r sample_data\n",
        "!ls\n",
        "from google.colab import files\n",
        "uploaded = files.upload()\n",
        "!unzip Data.zip\n",
        "!ls Data/"
      ],
      "execution_count": 0,
      "outputs": [
        {
          "output_type": "stream",
          "text": [
            "rm: cannot remove 'sample_data': No such file or directory\n"
          ],
          "name": "stdout"
        },
        {
          "output_type": "display_data",
          "data": {
            "text/html": [
              "\n",
              "     <input type=\"file\" id=\"files-e72e2a61-140b-4182-9b69-7c1da60cc569\" name=\"files[]\" multiple disabled />\n",
              "     <output id=\"result-e72e2a61-140b-4182-9b69-7c1da60cc569\">\n",
              "      Upload widget is only available when the cell has been executed in the\n",
              "      current browser session. Please rerun this cell to enable.\n",
              "      </output>\n",
              "      <script src=\"/nbextensions/google.colab/files.js\"></script> "
            ],
            "text/plain": [
              "<IPython.core.display.HTML object>"
            ]
          },
          "metadata": {
            "tags": []
          }
        },
        {
          "output_type": "stream",
          "text": [
            "Saving Data.zip to Data.zip\n",
            "Archive:  Data.zip\n",
            "   creating: Data/\n",
            "  inflating: Data/time3_transposed_format.csv  \n",
            "  inflating: Data/time2_transposed_format.csv  \n",
            "  inflating: Data/time1_transposed_format_train - time1_transposed_format.csv  \n"
          ],
          "name": "stdout"
        }
      ]
    },
    {
      "cell_type": "markdown",
      "metadata": {
        "id": "DkBTS9ywyOyL",
        "colab_type": "text"
      },
      "source": [
        "#Define the Data Generator"
      ]
    },
    {
      "cell_type": "code",
      "metadata": {
        "id": "JA-UPxPdx0bN",
        "colab_type": "code",
        "colab": {}
      },
      "source": [
        "import glob\n",
        "import os\n",
        "import csv\n",
        "import random\n",
        "import numpy as np\n",
        "import tensorflow.keras as keras\n",
        "\n",
        "class data_gen(keras.utils.Sequence):\n",
        "\tdef get_data(self):\n",
        "\t\tfiles = glob.glob(\"Data/*\")\n",
        "\t\traw_data = []\n",
        "\t\tfor file in files:\n",
        "\t\t\twith open(file, 'r') as f:\n",
        "\t\t\t\tf_csv = csv.reader(f)\n",
        "\t\t\t\traw_datum = [row for row in f_csv]\n",
        "\t\t\t\traw_data += raw_datum[1:]\n",
        "\n",
        "\t\t# {'control' : [ctrl_plant_name1, ctrl_plant_name2, ...]}\n",
        "\t\t#\t'nitrogen' : [nitrogen_plant_name1, nitrogen_plant_name2, ...]}\n",
        "\t\tplants = {'control': set(), 'nitrogen': set()}\n",
        "\t\t# {plant_name : [hyperspec1, hyperspec2, hyperspec3]}\n",
        "\t\tspecs = {}\n",
        "\n",
        "\t\t# Returns the class of the plant, and the formatted plant name\n",
        "\t\tdef get_plant(filepath):\n",
        "\t\t\tfilename = os.path.basename(filepath)\n",
        "\t\t\tsplit = filename.split('_')\n",
        "\t\t\tplant_name = split[0] + '_' + split[1] + '_' + split[2] + '_' + split[3] + '_' + split[4]\n",
        "\t\t\tplant_name = plant_name.upper()\n",
        "\n",
        "\t\t\tif (split[0] == 'c' or split[0] == 'C'):\n",
        "\t\t\t\tcategory = 'control'\n",
        "\t\t\telif (split[0] == 'n' or split[0] == 'N'):\n",
        "\t\t\t\tcategory = 'nitrogen'\n",
        "\t\t\telse:\n",
        "\t\t\t\tprint('Unknown Class:', filename)\n",
        "\n",
        "\t\t\treturn [category, plant_name]\n",
        "\n",
        "\t\tfor datum in raw_data:\n",
        "\t\t\t# Associate the plant_name with the class\n",
        "\t\t\tcategory, plant_name = get_plant(datum[0])\n",
        "\t\t\tplants[category].add(plant_name)\n",
        "\t\t\t# Associate the plant_name with its hyperspecs\n",
        "\t\t\tspec = np.array(datum[1:]).astype(np.float32)\t\t\t\n",
        "\t\t\tplant_specs = specs.get(plant_name, [])\n",
        "\t\t\tplant_specs.append(spec)\n",
        "\t\t\tspecs[plant_name] = plant_specs\n",
        "\n",
        "\t\treturn plants, specs\n",
        "\n",
        "\tdef __init__(self, batch_size, dim):\n",
        "\t\tself.batch_size = int(batch_size/2*2)\n",
        "\t\tself.dim = dim\n",
        "\t\tself.plants, self.specs = self.get_data()\n",
        "\n",
        "\t\tcontrol_train_idxs = np.random.choice(range(len(self.plants['control'])), 27, replace=False)\n",
        "\t\tnitrogen_train_idxs = np.random.choice(range(len(self.plants['nitrogen'])), 27, replace=False)\n",
        "\t\t\n",
        "\t\tself.plants_train = {'control' : set(), 'nitrogen' : set()}\n",
        "\t\tself.plants_test = {'control' : set(), 'nitrogen' : set()}\n",
        "\t\t\n",
        "\t\tfor i, plant_name in enumerate(self.plants['control']):\n",
        "\t\t\t\tif i in control_train_idxs:\t\t\t\n",
        "\t\t\t\t\tself.plants_train['control'].add(plant_name)\n",
        "\t\t\t\telse:\n",
        "\t\t\t\t\tself.plants_test['control'].add(plant_name) \n",
        "\n",
        "\t\tfor i, plant_name in enumerate(self.plants['nitrogen']):\n",
        "\t\t\t\tif i in nitrogen_train_idxs:\t\t\t\n",
        "\t\t\t\t\tself.plants_train['nitrogen'].add(plant_name)\n",
        "\t\t\t\telse:\n",
        "\t\t\t\t\tself.plants_test['nitrogen'].add(plant_name) \n",
        "\n",
        "\t\tself.epoch_data = {}\n",
        "\t\tself.on_epoch_end()\n",
        "\n",
        "\tdef __len__(self):\n",
        "\t\tnum_plants = min(len(self.plants['control']), len(self.plants['nitrogen'])) * 2\n",
        "\t\treturn int(np.floor(num_plants / self.batch_size))\n",
        "\n",
        "\tdef on_epoch_end(self):\n",
        "\t\tself.control_plants = list(self.plants_train['control'])\n",
        "\t\trandom.shuffle(self.control_plants)\n",
        "\t\tself.nitrogen_plants = list(self.plants_train['nitrogen'])\n",
        "\t\trandom.shuffle(self.nitrogen_plants)\n",
        "\n",
        "\tdef __getitem__(self, index):\n",
        "\t\tstart = int(index * self.batch_size / 2)\n",
        "\t\tend = int((index + 1) * self.batch_size / 2)\n",
        "\t\tcontrol_plants = self.control_plants[start:end]\n",
        "\t\tnitrogen_plants = self.nitrogen_plants[start:end]\n",
        "\n",
        "\t\tnum_plants = len(control_plants) + len(nitrogen_plants)\n",
        "\n",
        "\t\tX = np.empty((num_plants, self.dim, 1))\n",
        "\t\ty = np.empty((num_plants, 1))\n",
        "\n",
        "\t\t# Get the control data samples\n",
        "\t\tfor i, plant_name in enumerate(control_plants):\n",
        "\t\t\tplant_specs = self.specs[plant_name]\n",
        "\t\t\tX[i] = random.choice(plant_specs).reshape(-1, 1)\n",
        "\t\t\ty[i] = 0\n",
        "\t\t\n",
        "\t\t# Get the nitrogen data samples\n",
        "\t\tfor j, plant_name in enumerate(nitrogen_plants):\n",
        "\t\t\tplant_specs = self.specs[plant_name]\n",
        "\t\t\tX[i+j+1] = random.choice(plant_specs).reshape(-1, 1)\n",
        "\t\t\ty[i+j+1] = 1\n",
        "\n",
        "\t\treturn X, y\n",
        "\n",
        "\tdef test_batch(self):\n",
        "\t\t\tcontrol_plants = list(self.plants_test['control'])\n",
        "\t\t\tnitrogen_plants = list(self.plants_test['nitrogen'])\n",
        "\n",
        "\t\t\tnum_plants = len(control_plants) + len(nitrogen_plants)\n",
        "\n",
        "\t\t\tX = np.empty((num_plants, self.dim, 1))\n",
        "\t\t\ty = np.empty((num_plants, 1))\n",
        "\n",
        "\t\t\t# Get the control data samples\n",
        "\t\t\tfor i, plant_name in enumerate(control_plants):\n",
        "\t\t\t\tplant_specs = self.specs[plant_name]\n",
        "\t\t\t\tX[i] = random.choice(plant_specs).reshape(-1, 1)\n",
        "\t\t\t\ty[i] = 0\n",
        "\t\t\t\n",
        "\t\t\t# Get the nitrogen data samples\n",
        "\t\t\tfor j, plant_name in enumerate(nitrogen_plants):\n",
        "\t\t\t\tplant_specs = self.specs[plant_name]\n",
        "\t\t\t\tX[i+j+1] = random.choice(plant_specs).reshape(-1, 1)\n",
        "\t\t\t\ty[i+j+1] = 1\n",
        "\n",
        "\t\t\treturn X, y\n"
      ],
      "execution_count": 0,
      "outputs": []
    },
    {
      "cell_type": "markdown",
      "metadata": {
        "id": "BRIKGhiVx2Xo",
        "colab_type": "text"
      },
      "source": [
        "#Make the Model"
      ]
    },
    {
      "cell_type": "code",
      "metadata": {
        "id": "5j1mLU2Qxmx_",
        "colab_type": "code",
        "colab": {}
      },
      "source": [
        "import numpy as np\n",
        "import tensorflow as tf\n",
        "import keras\n",
        "from tensorflow.keras.layers import Dense, Input, Flatten, Dropout, Conv1D, Conv2D, BatchNormalization, MaxPool1D, Concatenate\n",
        "from tensorflow.keras.applications import VGG19\n",
        "from tensorflow.keras.models import Model\n",
        "from tensorflow.keras.utils import plot_model\n",
        "from tensorflow.keras.layers import BatchNormalization\n",
        "\n",
        "data_len = 2348\n",
        "# Build the hyperspec 1DCNN\n",
        "hyperspec_input = Input(shape=(data_len, 1))\n",
        "hyperspec_base = Conv1D(filters=20, kernel_size=24, strides=1, padding='valid', activation='tanh')(hyperspec_input)\n",
        "hyperspec_base = BatchNormalization()(hyperspec_base)\n",
        "hyperspec_base = MaxPool1D(pool_size=5, strides=None)(hyperspec_base)\n",
        "hyperspec_base = Flatten()(hyperspec_base)\n",
        "\n",
        "z = Dense(100, activation='tanh')(hyperspec_base)\n",
        "z = Dense(1, activation = 'sigmoid')(z)\n",
        "\n",
        "# Create the full model\n",
        "model = Model(hyperspec_input, z)\n",
        "#plot_model(model, show_shapes=True, show_layer_names=True)"
      ],
      "execution_count": 0,
      "outputs": []
    },
    {
      "cell_type": "code",
      "metadata": {
        "id": "dYk-PzaBzzAF",
        "colab_type": "code",
        "outputId": "20f893b2-1dc5-4847-a544-8b69350768d7",
        "colab": {
          "base_uri": "https://localhost:8080/",
          "height": 391
        }
      },
      "source": [
        "model.summary()"
      ],
      "execution_count": 0,
      "outputs": [
        {
          "output_type": "stream",
          "text": [
            "Model: \"model_8\"\n",
            "_________________________________________________________________\n",
            "Layer (type)                 Output Shape              Param #   \n",
            "=================================================================\n",
            "input_9 (InputLayer)         [(None, 2348, 1)]         0         \n",
            "_________________________________________________________________\n",
            "conv1d_8 (Conv1D)            (None, 2325, 20)          500       \n",
            "_________________________________________________________________\n",
            "batch_normalization_8 (Batch (None, 2325, 20)          80        \n",
            "_________________________________________________________________\n",
            "max_pooling1d_8 (MaxPooling1 (None, 465, 20)           0         \n",
            "_________________________________________________________________\n",
            "flatten_8 (Flatten)          (None, 9300)              0         \n",
            "_________________________________________________________________\n",
            "dense_16 (Dense)             (None, 100)               930100    \n",
            "_________________________________________________________________\n",
            "dense_17 (Dense)             (None, 1)                 101       \n",
            "=================================================================\n",
            "Total params: 930,781\n",
            "Trainable params: 930,741\n",
            "Non-trainable params: 40\n",
            "_________________________________________________________________\n"
          ],
          "name": "stdout"
        }
      ]
    },
    {
      "cell_type": "markdown",
      "metadata": {
        "id": "36HE2917yTgi",
        "colab_type": "text"
      },
      "source": [
        "#Train & Test the Model"
      ]
    },
    {
      "cell_type": "code",
      "metadata": {
        "id": "riQ34bYEyVd5",
        "colab_type": "code",
        "outputId": "9166e410-1b5a-48e6-d881-7b397415067f",
        "colab": {
          "base_uri": "https://localhost:8080/",
          "height": 282
        }
      },
      "source": [
        "from tensorflow.keras import optimizers\n",
        "import tensorflow as tf\n",
        "import matplotlib.pyplot as plt\n",
        "\n",
        "opt = optimizers.SGD(lr=0.001, decay=1e-6, momentum=0.9)\n",
        "\n",
        "for i in range(1):\n",
        "  train_gen = data_gen(64, data_len)\n",
        "  model.compile(loss=tf.keras.losses.BinaryCrossentropy(), optimizer=opt, metrics=['accuracy'])\n",
        "  history = model.fit_generator(generator=train_gen, epochs=1000, verbose=0)\n",
        "  plt.plot(range(len(history.history['loss'])), history.history['loss'])\n",
        "  model.save('model' + str(i) + '.h5')\n",
        "  X, y = train_gen.test_batch()\n",
        "  model.evaluate(X, y)\n",
        "plt.show()"
      ],
      "execution_count": 0,
      "outputs": [
        {
          "output_type": "stream",
          "text": [
            "1/1 [==============================] - 0s 1ms/step - loss: 0.5803 - accuracy: 0.6667\n"
          ],
          "name": "stdout"
        },
        {
          "output_type": "display_data",
          "data": {
            "image/png": "[encoded data removed]",
            "text/plain": [
              "<Figure size 432x288 with 1 Axes>"
            ]
          },
          "metadata": {
            "tags": [],
            "needs_background": "light"
          }
        }
      ]
    },
    {
      "cell_type": "code",
      "metadata": {
        "id": "8C7oDttH9VgE",
        "colab_type": "code",
        "colab": {}
      },
      "source": [
        ""
      ],
      "execution_count": 0,
      "outputs": []
    }
  ]
}